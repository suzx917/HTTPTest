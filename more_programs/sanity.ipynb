{
  "cells": [
    {
      "cell_type": "markdown",
      "metadata": {
        "id": "view-in-github",
        "colab_type": "text"
      },
      "source": [
        "<a href=\"https://colab.research.google.com/github/suzx917/HTTPTest/blob/main/more_programs/sanity.ipynb\" target=\"_parent\"><img src=\"https://colab.research.google.com/assets/colab-badge.svg\" alt=\"Open In Colab\"/></a>"
      ]
    },
    {
      "cell_type": "markdown",
      "metadata": {
        "id": "kG-CqHl2esSx"
      },
      "source": [
        "#  A tool to help write programs"
      ]
    },
    {
      "cell_type": "markdown",
      "metadata": {
        "id": "LKMj7KdP0_vi"
      },
      "source": [
        "The main tool here is a Python program called ```sanity```.\n",
        "This tool makes it easier for someone to organize 1# programs and to write them without having to count lines for all of the forward- and backward-transfer statements.\n",
        "\n",
        "The concept and the name come from Jon Bowman, who once took my class and felt that construction 1# programs by hand was crazy, and that counting all the 1's in a long expression \"made his eyeballs bleed.\"\n",
        "\n",
        "To start, run the next code cell to install the 1# Python package in your Colab environment. Then run the second code cell to import the functions from the 1# package which are used in this notebook."
      ]
    },
    {
      "cell_type": "code",
      "execution_count": 1,
      "metadata": {
        "id": "i2pvp3dz9io_",
        "outputId": "8760c20e-d64c-4513-dfe8-06f139b1a800",
        "colab": {
          "base_uri": "https://localhost:8080/",
          "height": 1000
        }
      },
      "outputs": [
        {
          "output_type": "stream",
          "name": "stdout",
          "text": [
            "Requirement already satisfied: setuptools in /usr/local/lib/python3.11/dist-packages (75.1.0)\n",
            "Collecting setuptools\n",
            "  Downloading setuptools-75.8.0-py3-none-any.whl.metadata (6.7 kB)\n",
            "Downloading setuptools-75.8.0-py3-none-any.whl (1.2 MB)\n",
            "\u001b[2K   \u001b[90m━━━━━━━━━━━━━━━━━━━━━━━━━━━━━━━━━━━━━━━━\u001b[0m \u001b[32m1.2/1.2 MB\u001b[0m \u001b[31m11.0 MB/s\u001b[0m eta \u001b[36m0:00:00\u001b[0m\n",
            "\u001b[?25hInstalling collected packages: setuptools\n",
            "  Attempting uninstall: setuptools\n",
            "    Found existing installation: setuptools 75.1.0\n",
            "    Uninstalling setuptools-75.1.0:\n",
            "      Successfully uninstalled setuptools-75.1.0\n",
            "\u001b[31mERROR: pip's dependency resolver does not currently take into account all the packages that are installed. This behaviour is the source of the following dependency conflicts.\n",
            "ipython 7.34.0 requires jedi>=0.16, which is not installed.\u001b[0m\u001b[31m\n",
            "\u001b[0mSuccessfully installed setuptools-75.8.0\n",
            "Collecting git+https://github.com/lmoss/onesharp.git@main\n",
            "  Cloning https://github.com/lmoss/onesharp.git (to revision main) to /tmp/pip-req-build-5cyrfqrm\n",
            "  Running command git clone --filter=blob:none --quiet https://github.com/lmoss/onesharp.git /tmp/pip-req-build-5cyrfqrm\n",
            "  Resolved https://github.com/lmoss/onesharp.git to commit 52f3e68139523ab45b3c99bc17dee22bead9cde2\n",
            "  Installing build dependencies ... \u001b[?25l\u001b[?25hdone\n",
            "  Getting requirements to build wheel ... \u001b[?25l\u001b[?25hdone\n",
            "  Preparing metadata (pyproject.toml) ... \u001b[?25l\u001b[?25hdone\n",
            "Requirement already satisfied: numpy in /usr/local/lib/python3.11/dist-packages (from onesharp==0.0.0) (1.26.4)\n",
            "Requirement already satisfied: pandas in /usr/local/lib/python3.11/dist-packages (from onesharp==0.0.0) (2.2.2)\n",
            "Requirement already satisfied: IPython in /usr/local/lib/python3.11/dist-packages (from onesharp==0.0.0) (7.34.0)\n",
            "Requirement already satisfied: setuptools>=18.5 in /usr/local/lib/python3.11/dist-packages (from IPython->onesharp==0.0.0) (75.8.0)\n",
            "Collecting jedi>=0.16 (from IPython->onesharp==0.0.0)\n",
            "  Downloading jedi-0.19.2-py2.py3-none-any.whl.metadata (22 kB)\n",
            "Requirement already satisfied: decorator in /usr/local/lib/python3.11/dist-packages (from IPython->onesharp==0.0.0) (4.4.2)\n",
            "Requirement already satisfied: pickleshare in /usr/local/lib/python3.11/dist-packages (from IPython->onesharp==0.0.0) (0.7.5)\n",
            "Requirement already satisfied: traitlets>=4.2 in /usr/local/lib/python3.11/dist-packages (from IPython->onesharp==0.0.0) (5.7.1)\n",
            "Requirement already satisfied: prompt-toolkit!=3.0.0,!=3.0.1,<3.1.0,>=2.0.0 in /usr/local/lib/python3.11/dist-packages (from IPython->onesharp==0.0.0) (3.0.50)\n",
            "Requirement already satisfied: pygments in /usr/local/lib/python3.11/dist-packages (from IPython->onesharp==0.0.0) (2.18.0)\n",
            "Requirement already satisfied: backcall in /usr/local/lib/python3.11/dist-packages (from IPython->onesharp==0.0.0) (0.2.0)\n",
            "Requirement already satisfied: matplotlib-inline in /usr/local/lib/python3.11/dist-packages (from IPython->onesharp==0.0.0) (0.1.7)\n",
            "Requirement already satisfied: pexpect>4.3 in /usr/local/lib/python3.11/dist-packages (from IPython->onesharp==0.0.0) (4.9.0)\n",
            "Requirement already satisfied: python-dateutil>=2.8.2 in /usr/local/lib/python3.11/dist-packages (from pandas->onesharp==0.0.0) (2.8.2)\n",
            "Requirement already satisfied: pytz>=2020.1 in /usr/local/lib/python3.11/dist-packages (from pandas->onesharp==0.0.0) (2025.1)\n",
            "Requirement already satisfied: tzdata>=2022.7 in /usr/local/lib/python3.11/dist-packages (from pandas->onesharp==0.0.0) (2025.1)\n",
            "Requirement already satisfied: parso<0.9.0,>=0.8.4 in /usr/local/lib/python3.11/dist-packages (from jedi>=0.16->IPython->onesharp==0.0.0) (0.8.4)\n",
            "Requirement already satisfied: ptyprocess>=0.5 in /usr/local/lib/python3.11/dist-packages (from pexpect>4.3->IPython->onesharp==0.0.0) (0.7.0)\n",
            "Requirement already satisfied: wcwidth in /usr/local/lib/python3.11/dist-packages (from prompt-toolkit!=3.0.0,!=3.0.1,<3.1.0,>=2.0.0->IPython->onesharp==0.0.0) (0.2.13)\n",
            "Requirement already satisfied: six>=1.5 in /usr/local/lib/python3.11/dist-packages (from python-dateutil>=2.8.2->pandas->onesharp==0.0.0) (1.17.0)\n",
            "Downloading jedi-0.19.2-py2.py3-none-any.whl (1.6 MB)\n",
            "\u001b[2K   \u001b[90m━━━━━━━━━━━━━━━━━━━━━━━━━━━━━━━━━━━━━━━━\u001b[0m \u001b[32m1.6/1.6 MB\u001b[0m \u001b[31m15.5 MB/s\u001b[0m eta \u001b[36m0:00:00\u001b[0m\n",
            "\u001b[?25hBuilding wheels for collected packages: onesharp\n",
            "  Building wheel for onesharp (pyproject.toml) ... \u001b[?25l\u001b[?25hdone\n",
            "  Created wheel for onesharp: filename=onesharp-0.0.0-py3-none-any.whl size=11310 sha256=c62b7b336a0953513eefeaf3f0242dc1edfec34421b74d30edce5627b1c17176\n",
            "  Stored in directory: /tmp/pip-ephem-wheel-cache-m1mi2hua/wheels/2b/0b/3b/ca294095716195b959665e0a29465990a7cb7005e28cd82463\n",
            "Successfully built onesharp\n",
            "Installing collected packages: jedi, onesharp\n",
            "Successfully installed jedi-0.19.2 onesharp-0.0.0\n"
          ]
        },
        {
          "output_type": "error",
          "ename": "ImportError",
          "evalue": "cannot import name 'ones' from partially initialized module 'onesharp.interpreter.interpreter' (most likely due to a circular import) (/usr/local/lib/python3.11/dist-packages/onesharp/interpreter/interpreter.py)",
          "traceback": [
            "\u001b[0;31m---------------------------------------------------------------------------\u001b[0m",
            "\u001b[0;31mImportError\u001b[0m                               Traceback (most recent call last)",
            "\u001b[0;32m<ipython-input-1-75d6a1a73e3e>\u001b[0m in \u001b[0;36m<cell line: 0>\u001b[0;34m()\u001b[0m\n\u001b[1;32m      1\u001b[0m \u001b[0mget_ipython\u001b[0m\u001b[0;34m(\u001b[0m\u001b[0;34m)\u001b[0m\u001b[0;34m.\u001b[0m\u001b[0msystem\u001b[0m\u001b[0;34m(\u001b[0m\u001b[0;34m'python -m pip install -U setuptools'\u001b[0m\u001b[0;34m)\u001b[0m\u001b[0;34m\u001b[0m\u001b[0;34m\u001b[0m\u001b[0m\n\u001b[1;32m      2\u001b[0m \u001b[0mget_ipython\u001b[0m\u001b[0;34m(\u001b[0m\u001b[0;34m)\u001b[0m\u001b[0;34m.\u001b[0m\u001b[0msystem\u001b[0m\u001b[0;34m(\u001b[0m\u001b[0;34m'python -m pip install -U git+https://github.com/lmoss/onesharp.git@main'\u001b[0m\u001b[0;34m)\u001b[0m\u001b[0;34m\u001b[0m\u001b[0;34m\u001b[0m\u001b[0m\n\u001b[0;32m----> 3\u001b[0;31m \u001b[0;32mfrom\u001b[0m \u001b[0monesharp\u001b[0m\u001b[0;34m.\u001b[0m\u001b[0minterpreter\u001b[0m\u001b[0;34m.\u001b[0m\u001b[0minterpreter\u001b[0m \u001b[0;32mimport\u001b[0m \u001b[0;34m*\u001b[0m\u001b[0;34m\u001b[0m\u001b[0;34m\u001b[0m\u001b[0m\n\u001b[0m",
            "\u001b[0;32m/usr/local/lib/python3.11/dist-packages/onesharp/interpreter/interpreter.py\u001b[0m in \u001b[0;36m<module>\u001b[0;34m\u001b[0m\n\u001b[1;32m      5\u001b[0m \u001b[0;34m\u001b[0m\u001b[0m\n\u001b[1;32m      6\u001b[0m \u001b[0;34m\u001b[0m\u001b[0m\n\u001b[0;32m----> 7\u001b[0;31m \u001b[0;32mfrom\u001b[0m \u001b[0;34m.\u001b[0m\u001b[0minterpreter\u001b[0m \u001b[0;32mimport\u001b[0m \u001b[0mones\u001b[0m \u001b[0;31m# Import the ones function from the interpreter module\u001b[0m\u001b[0;34m\u001b[0m\u001b[0;34m\u001b[0m\u001b[0m\n\u001b[0m\u001b[1;32m      8\u001b[0m \u001b[0;34m\u001b[0m\u001b[0m\n\u001b[1;32m      9\u001b[0m \u001b[0;34m\u001b[0m\u001b[0m\n",
            "\u001b[0;31mImportError\u001b[0m: cannot import name 'ones' from partially initialized module 'onesharp.interpreter.interpreter' (most likely due to a circular import) (/usr/local/lib/python3.11/dist-packages/onesharp/interpreter/interpreter.py)",
            "",
            "\u001b[0;31m---------------------------------------------------------------------------\u001b[0;32m\nNOTE: If your import is failing due to a missing package, you can\nmanually install dependencies using either !pip or !apt.\n\nTo view examples of installing some common dependencies, click the\n\"Open Examples\" button below.\n\u001b[0;31m---------------------------------------------------------------------------\u001b[0m\n"
          ],
          "errorDetails": {
            "actions": [
              {
                "action": "open_url",
                "actionText": "Open Examples",
                "url": "/notebooks/snippets/importing_libraries.ipynb"
              }
            ]
          }
        }
      ],
      "source": [
        "!python -m pip install -U setuptools\n",
        "!python -m pip install -U git+https://github.com/lmoss/onesharp.git@main\n",
        "from onesharp.interpreter.interpreter import *\n"
      ]
    },
    {
      "cell_type": "markdown",
      "metadata": {
        "id": "ist0RI8rH78c"
      },
      "source": [
        "As a way to show what the tool does, we'll go through an example.  Let's write a program that takes a word\n",
        "\n",
        "$$ w = w_1 w_2 \\cdots w_n $$\n",
        "\n",
        "in R1 and reverses it.  \n",
        "Here is a *flowchart* for the program which we'll write:\n",
        "<img src=\"https://github.com/lmoss/onesharp/blob/main/more_programs/flowchart-1.png?raw=1\" width=\"130%\" height=\"200%\">\n",
        "Our program will work as follows.   It processes the letters in $w$ in order, using a loop that involves cases on R1.   At the end of the $i$th pass through the loop, we'll have $w_{i+1}\\cdots w_n$ in R1, and its prefix $w_{i}\\cdots w_2 w_1$\n",
        "will be in R2, but it will appear there *reversed*.\n",
        "Thus, after $n$ passes through the loop, the desired reversal will be in R2.  This is how the flowchart ends.\n",
        "\n",
        "Let's now consider what happens when we run the $(i+1)$-st iteration of the loop.  We have cases on the first symbol of R1, and we know that this is $w_{i+1}$.   If that first symbol is a $\\one$, we write the same symbol $\\one$ into R3, and then we move R2 onto the end of R3\n",
        "(emptying out R2) and then R3 is moved back go R2.  On the assumption that R2 had  $w_{i}\\cdots w_2 w_1$ before this iteration,\n",
        "it now has  $w_{i+1} w_{i}\\cdots w_2 w_1$.   The same thing happens if the first symbol in R1 was $\\hash$.  Finally, if R1 was empty,\n",
        "we would go to the bottom of the flowchart.  In this case,\n",
        "R2 would have $w_{n}\\cdots w_2 w_1$.  (This is what we want; it is the original input reversed.) And the flowchart indicates that we should move R2 back into R1.  So we are done.\n",
        "\n",
        "\n",
        "\n",
        "With this in mind, have a look at the following Python list called  'reverse_idea'.  It is a list of 8 arrays, and each of them is of a special form."
      ]
    },
    {
      "cell_type": "code",
      "execution_count": null,
      "metadata": {
        "id": "2FAj2rCASO0z"
      },
      "outputs": [],
      "source": [
        "reverse_idea = [\n",
        "    ['top', 'cases', 1, 'move_back', 'one_found', 'hash_found'],\n",
        "    ['one_found','111#'],\n",
        "    ['goto', 'move_phase'],\n",
        "    ['hash_found',  '111##'],\n",
        "    ['goto', 'move_phase'],\n",
        "    ['move_phase', move(2,3) + move(3,2)],\n",
        "    ['goto', 'top'],\n",
        "    ['move_back', move(2,1)]\n",
        "]"
      ]
    },
    {
      "cell_type": "code",
      "source": [
        "def encode_sym(ch):\n",
        "  if ch == '1': return '11'\n",
        "  elif ch == '#': return '1#'\n",
        "\n",
        "def encode_str(s):\n",
        "  return [encode_sym(ch) for ch in s]\n",
        "\n",
        "\n",
        "def build_tuple(args):\n",
        "  return [encode_str(a) + '##' for a in args]\n",
        "\n",
        "# Given an encoded tuple, return a list of its decoded elements\n",
        "def decode_tuple(p):\n",
        "  res = []\n",
        "  elem = ''\n",
        "  for i in range(0, len(p), 2):\n",
        "    #print(p[i:i+2])\n",
        "    if p[i:i+2] == '11':\n",
        "      elem += '1'\n",
        "    elif p[i:i+2] == '1#':\n",
        "      elem += '#'\n",
        "    elif p[i:i+2] == '##':\n",
        "      res.append(elem)\n",
        "      print(elem)\n",
        "      elem = ''\n",
        "    else:\n",
        "      raise Exception('decode_tuple: Invalid input')\n",
        "  res.append(elem)\n",
        "  return res\n"
      ],
      "metadata": {
        "id": "0Vmyp_n7vR14",
        "outputId": "8287c927-2241-4639-a433-5939f630b1c2",
        "colab": {
          "base_uri": "https://localhost:8080/"
        }
      },
      "execution_count": 16,
      "outputs": [
        {
          "output_type": "stream",
          "name": "stdout",
          "text": [
            "#11#\n"
          ]
        },
        {
          "output_type": "execute_result",
          "data": {
            "text/plain": [
              "['#11#', '1']"
            ]
          },
          "metadata": {},
          "execution_count": 16
        }
      ]
    },
    {
      "cell_type": "markdown",
      "metadata": {
        "id": "EpHIPlFKzxIR"
      },
      "source": [
        "We have here 8 *segments*.   A segment is not the same what we called a *line* of a $\\one\\hash$ program.  As the name suggests, a segment corresponds to a sequence of lines.\n",
        "For example, segments 6 and 8 each contain ```move``` programs that are bigger than a single instruction.  Segments 2, 4 5, and 6 each begin with a *label*.  Labels are strings that other parts of the program could point to.  For example, the first segment is a case statement $\\one\\hash^5$, and it also contains the information that if R1 is empty, we should go to whichever segmet has the label \"move_phase\". (That would be the segment named 'move_stuff_around'.) The first segment also tells us that if R1 begins with $\\one$ we should (delete is and) go to the segment containing 'first-is_one'.   Note also that 'goto' is not a label.  \n",
        "\n",
        "Also, note that a segment is not quite the samething as an item in the flowchart.   But this is pretty close.  \n",
        "\n",
        "\n"
      ]
    },
    {
      "cell_type": "markdown",
      "metadata": {
        "id": "58MVrwGbagCK"
      },
      "source": [
        "## Workflow\n",
        "\n",
        "The workflow in this notebook is that you will need to\n",
        "\n",
        "(a) think about things deeply enough to make a correct flowchart\n",
        "\n",
        "(b) draw that flowchart, either with pencil and paper or with some tool (as I did here)\n",
        "\n",
        "(c) make an \"idea\" for the desired program using the flowchart, an \"idea\" with special requirements that we discuss below\n",
        "\n",
        "(d) call a Python program called ```sanity``` on the \"idea\" to get a $\\one\\hash$ program which you can then run.\n",
        "\n"
      ]
    },
    {
      "cell_type": "code",
      "execution_count": null,
      "metadata": {
        "colab": {
          "base_uri": "https://localhost:8080/",
          "height": 53
        },
        "id": "x64PWiqbzzv9",
        "outputId": "8ff1e323-826f-47f7-cd54-a0f10b47b366"
      },
      "outputs": [
        {
          "data": {
            "application/vnd.google.colaboratory.intrinsic+json": {
              "type": "string"
            },
            "text/plain": [
              "'1#####1111111111111111111111###11###111###111#111###111##1###11#####11111 1###111###111##1111####111#11111 1####111#####11111 1###111###11##1111####11#11111 1####1111111111111111111111####11#####11111 1###111###1##1111####1#11111 1####'"
            ]
          },
          "execution_count": 4,
          "metadata": {},
          "output_type": "execute_result"
        }
      ],
      "source": [
        "# example\n",
        "\n",
        "rev = sanity(reverse_idea)\n",
        "\n",
        "# This run 'sanity' on 'reverse_idea', calling the result 'rev'.\n",
        "# We can refer to it in the rest of this notebook by 'rev'.\n",
        "# For example we can display our new program\n",
        "rev"
      ]
    },
    {
      "cell_type": "markdown",
      "metadata": {
        "id": "1FAIHp4R00ni"
      },
      "source": [
        "Now the program which we just constructed can be run, as usual:"
      ]
    },
    {
      "cell_type": "code",
      "execution_count": null,
      "metadata": {
        "colab": {
          "base_uri": "https://localhost:8080/",
          "height": 35
        },
        "id": "OBRTkqiXxpCC",
        "outputId": "8618a18e-3421-47d9-d710-73df01e142a2"
      },
      "outputs": [
        {
          "data": {
            "application/vnd.google.colaboratory.intrinsic+json": {
              "type": "string"
            },
            "text/plain": [
              "'####1'"
            ]
          },
          "execution_count": 5,
          "metadata": {},
          "output_type": "execute_result"
        }
      ],
      "source": [
        "onesharp(rev,['1####'])"
      ]
    },
    {
      "cell_type": "code",
      "execution_count": null,
      "metadata": {
        "colab": {
          "base_uri": "https://localhost:8080/",
          "height": 35
        },
        "id": "WUTd0u_iG-A-",
        "outputId": "bdb5a36c-eaaa-4f6e-82f5-fe507e4bc11b"
      },
      "outputs": [
        {
          "data": {
            "application/vnd.google.colaboratory.intrinsic+json": {
              "type": "string"
            },
            "text/plain": [
              "'1#####111###111###111###111###11111####111111####'"
            ]
          },
          "execution_count": 6,
          "metadata": {},
          "output_type": "execute_result"
        }
      ],
      "source": [
        "# Here is a way to write the program 'clear_1':\n",
        "sanity([\n",
        "    ['top', 'cases',1,'empty', 'one','hash'],\n",
        "    ['empty', 'goto', 'end'],\n",
        "    ['one','goto', 'top'],\n",
        "    ['hash', 'goto', 'top'],\n",
        "])"
      ]
    },
    {
      "cell_type": "markdown",
      "metadata": {
        "id": "45YVqabS_q0y"
      },
      "source": [
        "# The inputs to ```sanity```\n",
        "\n",
        "In order to use the tool, we have clarify what we mean by *segments* and *labels*.\n",
        "\n",
        "```{admonition} What may go into a segment?\n",
        ":class: attention\n",
        "\n",
        "A segment is a Python list: it must be surrounded by square brackects.\n",
        "\n",
        "A segment can be snippet of 1# code surrounded by quotes.  \n",
        "\n",
        "A segment can be a Python expression like\n",
        "```move_3_1 + move_2_1```\n",
        "that denotes a 1# word.  (These expressions must be defined before you run ```sanity```, or you will get an error.)\n",
        "\n",
        "A segment can have 'add1' or 'add#' followed by a number (without quotes).  This number is a register number.\n",
        "\n",
        "A segment may be the word 'cases' followed by a number and then three labels.\n",
        "\n",
        "A segment may optionally begin with a *label* like 'top', or 'moveback', and then it either consists of a snippet of $\\one\\hash$ code surrounded by single quotes, or a Python expression that denotes a snippet of $\\one\\hash$ code\n",
        "```\n",
        "\n",
        "\n",
        "```{admonition} labels\n",
        ":class: attention\n",
        "\n",
        "A label may be a word of English, and it may have the underscore symbol, but it should not have spaces.  It must be surrounded by quotes.  \n",
        "\n",
        "A label must not begin with '1' or '#, and it must not be one of the strings 'goto', 'end', 'add1', or 'add#'.\n",
        "\n",
        "*Labels are optional*, except a \"cases\" instruction\n",
        "must have a number and then three labels.   The number is for a register.   So \"cases on register 17\" would correspond to\n",
        "a segment with the number 17 as its third entry.\n",
        "\n",
        "Another label which may be used is 'goto'.\n",
        "A use of 'goto' must be followed either by a label or the word 'end'.\n",
        "\n",
        "\n",
        "\n",
        "Every label used inside a 'cases' or 'goto' statement must be the first label in some segment.  Otherwise, ```sanity``` will raise an error.\n",
        "```"
      ]
    },
    {
      "cell_type": "markdown",
      "metadata": {
        "id": "vLnAtJzeDwkJ"
      },
      "source": [
        "Here is another example, another derivation of the \"diag\" program which we have seen earlier."
      ]
    },
    {
      "cell_type": "code",
      "execution_count": null,
      "metadata": {
        "id": "hh-cJEpjVYQ7"
      },
      "outputs": [],
      "source": [
        "dg_idea = [\n",
        "    ['top','cases',1,'empty', 'one','hash'],\n",
        "    ['empty', 'goto', 'moveback'],\n",
        "    ['one', 'add1', 2],\n",
        "    ['111#111##'],\n",
        "    ['goto', 'top'],\n",
        "    ['hash', 'add#', 2],\n",
        "    ['111#111##111##'],\n",
        "    ['goto', 'top'],\n",
        "    ['moveback', move(3,1)+move(2,1)]\n",
        "]\n",
        "dg = sanity(diag_idea)"
      ]
    },
    {
      "cell_type": "code",
      "execution_count": null,
      "metadata": {
        "colab": {
          "base_uri": "https://localhost:8080/",
          "height": 35
        },
        "id": "EMfyqkmNV5hm",
        "outputId": "e9061339-5c94-42fa-8a99-395bf074b80b"
      },
      "outputs": [
        {
          "data": {
            "application/vnd.google.colaboratory.intrinsic+json": {
              "type": "string"
            },
            "text/plain": [
              "'1#1#1##11#'"
            ]
          },
          "execution_count": 8,
          "metadata": {},
          "output_type": "execute_result"
        }
      ],
      "source": [
        "onesharp(dg,['11#'])"
      ]
    },
    {
      "cell_type": "markdown",
      "metadata": {
        "id": "ZM8aBsOpbn6x"
      },
      "source": [
        "### Examples of segments:\n",
        "\n",
        "    ['top','cases',1,'empty', 'one_found','hash_found'],\n",
        "    ['empty', 'goto', 'moveback'],\n",
        "    ['one_found', 'add1', 2],\n",
        "    ['111#111##'],\n",
        "    ['goto', 'top'],\n",
        "    ['hash_found', 'add#', 2],\n",
        "    ['111#111##111##'],\n",
        "    ['goto', 'end'],\n",
        "    ['moveback', move(3,1)+move(2,1)]\n",
        "  \n"
      ]
    },
    {
      "cell_type": "markdown",
      "metadata": {
        "id": "14mGzt1ewQij"
      },
      "source": [
        "### How does Sanity work?\n",
        "\n",
        "We aren't going to discuss this at length (now), but you can read the Python code for it by examining the input box at the top.   Eventually this code will be documented well-enough so that it can be read.  The overall idea is to work with *parsed* programs, the Python lists that we obtained with [the function ```parse``` that we saw earlier](content:parsing).  The program ```sanity``` consists of manipulations of parses, followed by an application of ```unparse``` which returns us to a $\\one\\hash$ program."
      ]
    },
    {
      "cell_type": "markdown",
      "metadata": {
        "id": "CHiDS-cteu2Y"
      },
      "source": [
        "### Further programs and exercises"
      ]
    },
    {
      "cell_type": "code",
      "execution_count": null,
      "metadata": {
        "colab": {
          "base_uri": "https://localhost:8080/",
          "height": 35
        },
        "id": "l_A-morkdi8R",
        "outputId": "aab663f3-79f8-4f3c-d93f-142be6c384c7"
      },
      "outputs": [
        {
          "data": {
            "application/vnd.google.colaboratory.intrinsic+json": {
              "type": "string"
            },
            "text/plain": [
              "'1111'"
            ]
          },
          "execution_count": 9,
          "metadata": {},
          "output_type": "execute_result"
        }
      ],
      "source": [
        "# This code cell contains a Sane program which multiplies the contents of\n",
        "#   registers one and two and stores the product back into register one\n",
        "\n",
        "sane_multiply = [\n",
        "  [move(1,4)],\n",
        "  ['1##'],\n",
        "  [copy(2,5,10)],\n",
        "  ['111##'],\n",
        "  [copy(3,6,10)],\n",
        "  [compare(2,3)],\n",
        "  ['multiply_loop', 'cases', 2, 'empty', 'one', 'sharp'],\n",
        "    ['empty', copy(4,7,10)],\n",
        "      [add(1,4,10)],\n",
        "      [move(7,4)],\n",
        "      [copy(5,2,10)],\n",
        "      [successor(6,10)],\n",
        "      [copy(6,3,10)],\n",
        "      [compare(2,3)],\n",
        "      ['goto', 'multiply_loop'],\n",
        "    ['one', 'goto', 'epilogue'],\n",
        "    ['sharp', 'goto', 'end'], # We shouldn't reach here because cmp shold never\n",
        "                              #   write sharp into register two\n",
        "  ['epilogue', clear(4)],\n",
        "    [clear(5)],\n",
        "    [clear(6)]\n",
        "]\n",
        "onesharp_multiply = sanity(sane_multiply)\n",
        "onesharp(onesharp_multiply, ['11', '1#1']) # 11*1#1 = 1111 <==> 3*5 = 15"
      ]
    },
    {
      "cell_type": "code",
      "execution_count": null,
      "metadata": {
        "colab": {
          "base_uri": "https://localhost:8080/",
          "height": 35
        },
        "id": "gPm5rsTUdjfy",
        "outputId": "c804299f-8c27-4a58-f305-44267848a8eb"
      },
      "outputs": [
        {
          "data": {
            "application/vnd.google.colaboratory.intrinsic+json": {
              "type": "string"
            },
            "text/plain": [
              "'11##1111'"
            ]
          },
          "execution_count": 10,
          "metadata": {},
          "output_type": "execute_result"
        }
      ],
      "source": [
        "# This code cell contains a Sane program which exponentiates the contents of\n",
        "#   register one to the power of the contents of register two and stores the\n",
        "#   result back into register one\n",
        "\n",
        "sane_exponentiate = [\n",
        "  [move(1,14)],\n",
        "  [ones(11)+'#'],\n",
        "  [move(2,12)],\n",
        "  [copy(12,15,20)],\n",
        "  [ones(13)+'##'],\n",
        "  [copy(13,16,20)],\n",
        "  [compare(12,13)],\n",
        "  ['exponentiate_loop', 'cases', 12, 'empty', 'one', 'sharp'],\n",
        "    ['empty', move(11,1)],\n",
        "      [copy(14,2,20)],\n",
        "      [onesharp_multiply],\n",
        "      [move(1,11)],\n",
        "      [copy(15,12,20)],\n",
        "      [successor(16,20)],\n",
        "      [copy(16,13,20)],\n",
        "      [compare(12,13)],\n",
        "      ['goto', 'exponentiate_loop'],\n",
        "    ['one', 'goto', 'epilogue'],\n",
        "    ['sharp', 'goto', 'end'], # We shouldn't reach here because cmp shold never\n",
        "                              #   write sharp into register two\n",
        "  ['epilogue', move(11,1)],\n",
        "    [clear(14)],\n",
        "    [clear(15)],\n",
        "    [clear(16)]\n",
        "]\n",
        "onesharp_exponentiate = sanity(sane_exponentiate)\n",
        "onesharp(onesharp_exponentiate, ['11', '1#1']) # 11^1#1 = 11##1111 <==> 3^5 = 243"
      ]
    },
    {
      "cell_type": "code",
      "execution_count": null,
      "metadata": {
        "colab": {
          "base_uri": "https://localhost:8080/",
          "height": 35
        },
        "id": "a4H1SZi7XaTY",
        "outputId": "1d6afb43-19ec-485b-a4cc-884dae2c9bb5"
      },
      "outputs": [
        {
          "data": {
            "application/vnd.google.colaboratory.intrinsic+json": {
              "type": "string"
            },
            "text/plain": [
              "'1####1#11##11'"
            ]
          },
          "execution_count": 11,
          "metadata": {},
          "output_type": "execute_result"
        }
      ],
      "source": [
        "onesharp(onesharp_exponentiate, ['11', '###1']) # 11^###1 = 1####1#11##11 <==> 3^8 = 6561\n",
        "# 6561 base 2 is 1100110100001"
      ]
    },
    {
      "cell_type": "code",
      "execution_count": null,
      "metadata": {
        "id": "HCI5EAOgYAjt"
      },
      "outputs": [],
      "source": [
        "pre_pred = [\n",
        "   ['top', 'cases', 1, 'first_end', 'first_one', 'first_hash'],\n",
        "   ['first_one', 'cases', 1, 'hash_is_it', 'returnA','returnB'],\n",
        "   ['hash_is_it', '1##'],\n",
        "   ['goto', 'second_end'],\n",
        "   ['returnA', '11#11#'],\n",
        "   [move(1,2) + move(2,1)],\n",
        "   ['goto', 'end'],\n",
        "   ['returnB', '11#11##'],\n",
        "   [move(1,2) + move(2,1)],\n",
        "   ['goto', 'end'],\n",
        "   ['first_hash', 'cases', 1, 'first_end', 'hash_one', 'hash_hash'],\n",
        "   ['hash_one','11##'],\n",
        "   ['hash_hash','1###'],\n",
        "   ['second_end', '1111#'],\n",
        "   ['goto', 'end'],\n",
        "   ['first_end', '111#']\n",
        " ]"
      ]
    },
    {
      "cell_type": "code",
      "execution_count": null,
      "metadata": {
        "colab": {
          "base_uri": "https://localhost:8080/",
          "height": 210
        },
        "id": "6rACbr-pbKGK",
        "outputId": "dd044cf6-3a4d-4337-b3bc-71ff558a78e9"
      },
      "outputs": [
        {
          "name": "stdout",
          "output_type": "stream",
          "text": [
            "This is undefined.\n",
            "The register contents at the end are shown below.\n"
          ]
        },
        {
          "data": {
            "text/html": [
              "<style type=\"text/css\">\n",
              "#T_6135c_row0_col0, #T_6135c_row1_col0, #T_6135c_row2_col0, #T_6135c_row3_col0 {\n",
              "  background-color: #FFFFCC;\n",
              "  text-align: left;\n",
              "}\n",
              "</style>\n",
              "<table id=\"T_6135c_\" class=\"dataframe\">\n",
              "  <thead>\n",
              "    <tr>\n",
              "      <th class=\"blank level0\" >&nbsp;</th>\n",
              "      <th class=\"col_heading level0 col0\" >contents</th>\n",
              "    </tr>\n",
              "  </thead>\n",
              "  <tbody>\n",
              "    <tr>\n",
              "      <th id=\"T_6135c_level0_row0\" class=\"row_heading level0 row0\" >1</th>\n",
              "      <td id=\"T_6135c_row0_col0\" class=\"data row0 col0\" ></td>\n",
              "    </tr>\n",
              "    <tr>\n",
              "      <th id=\"T_6135c_level0_row1\" class=\"row_heading level0 row1\" >2</th>\n",
              "      <td id=\"T_6135c_row1_col0\" class=\"data row1 col0\" >#</td>\n",
              "    </tr>\n",
              "    <tr>\n",
              "      <th id=\"T_6135c_level0_row2\" class=\"row_heading level0 row2\" >3</th>\n",
              "      <td id=\"T_6135c_row2_col0\" class=\"data row2 col0\" ></td>\n",
              "    </tr>\n",
              "    <tr>\n",
              "      <th id=\"T_6135c_level0_row3\" class=\"row_heading level0 row3\" >4</th>\n",
              "      <td id=\"T_6135c_row3_col0\" class=\"data row3 col0\" >1</td>\n",
              "    </tr>\n",
              "  </tbody>\n",
              "</table>\n"
            ],
            "text/plain": [
              "<pandas.io.formats.style.Styler at 0x7f59f79ee4d0>"
            ]
          },
          "metadata": {},
          "output_type": "display_data"
        }
      ],
      "source": [
        "onesharp(sanity(pre_pred), ['#1'])"
      ]
    },
    {
      "cell_type": "markdown",
      "metadata": {
        "id": "sV84-_vxPGEm"
      },
      "source": [
        "Here is a derivation of a progam that takes the predecessor of a number written in backwards binary (bb) notation."
      ]
    },
    {
      "cell_type": "code",
      "execution_count": null,
      "metadata": {
        "id": "0RI_oHqycIE5"
      },
      "outputs": [],
      "source": [
        "pred = [\n",
        "     ['top','cases', 1, 'a', 'b','c'],\n",
        "     ['a', 'goto', 'end'],\n",
        "     ['b', 'cases', 1, 'oe', 'oo', 'oh'],\n",
        "     ['oe', '1##'],\n",
        "     ['goto', 'end'],\n",
        "     ['oo', '11#11#'+move(1,2)+move(2,1)],\n",
        "     ['goto', 'main'],\n",
        "     ['oh', '11#11##'+move(1,2)+move(2,1)],\n",
        "     ['goto', 'main'],\n",
        "     ['c', 'cases', 1, 'he', 'ho', 'hh'],\n",
        "     ['he', '1##'],\n",
        "     ['goto', 'end'],\n",
        "     ['ho', '11##11#'+move(1,2)+move(2,1)],\n",
        "     ['goto', 'main'],\n",
        "     ['hh', '11##11##'+move(1,2)+move(2,1)],\n",
        "     ['goto', 'main'],\n",
        "     ['main', 'cases', 1, 'empty', 'one','hash'],\n",
        "     ['empty', move(2,1)],\n",
        "     ['goto', 'end'],\n",
        "     ['one', '11##'],\n",
        "     [move(1,2) + move(2,1)],\n",
        "     ['goto', 'end'],\n",
        "     ['hash', '11#'],\n",
        "     ['borrowing', 'cases', 1, 'borrowing_empty', 'borrowing_one', 'borrowing_hash'],\n",
        "     ['borrowing_empty', move(2,1)],\n",
        "     ['goto', 'end'],\n",
        "     ['borrowing_one', '11##'],\n",
        "     [move(1,2) + move(2,1)],\n",
        "     ['goto', 'end'],\n",
        "     ['borrowing_hash', '11#'],\n",
        "     ['goto','borrowing']\n",
        "]"
      ]
    },
    {
      "cell_type": "code",
      "execution_count": null,
      "metadata": {
        "id": "It_-TCiJhyHx"
      },
      "outputs": [],
      "source": [
        "p1 = sanity(pred)\n"
      ]
    },
    {
      "cell_type": "code",
      "execution_count": null,
      "metadata": {
        "colab": {
          "base_uri": "https://localhost:8080/",
          "height": 35
        },
        "id": "wxlu8HIUhzxG",
        "outputId": "3553fa9e-9783-4f7c-e82b-7c29d9f9cca2"
      },
      "outputs": [
        {
          "data": {
            "application/vnd.google.colaboratory.intrinsic+json": {
              "type": "string"
            },
            "text/plain": [
              "'##'"
            ]
          },
          "execution_count": 16,
          "metadata": {},
          "output_type": "execute_result"
        }
      ],
      "source": [
        "onesharp(p1,['1#'])"
      ]
    },
    {
      "cell_type": "code",
      "execution_count": null,
      "metadata": {
        "colab": {
          "base_uri": "https://localhost:8080/",
          "height": 35
        },
        "id": "Ud4Qoo91uvd1",
        "outputId": "bf984a22-8bd9-43ab-db71-e7cdb725502f"
      },
      "outputs": [
        {
          "data": {
            "application/vnd.google.colaboratory.intrinsic+json": {
              "type": "string"
            },
            "text/plain": [
              "'#'"
            ]
          },
          "execution_count": 20,
          "metadata": {},
          "output_type": "execute_result"
        }
      ],
      "source": [
        "onesharp(pr,['1##'])"
      ]
    },
    {
      "cell_type": "code",
      "execution_count": null,
      "metadata": {
        "colab": {
          "base_uri": "https://localhost:8080/",
          "height": 122
        },
        "id": "qAuTowHCux8r",
        "outputId": "ed06ddeb-a1f7-4a49-bd61-ed435b9b1f99"
      },
      "outputs": [
        {
          "data": {
            "application/vnd.google.colaboratory.intrinsic+json": {
              "type": "string"
            },
            "text/plain": [
              "'1#####111###111###111111111111111111111111111111111111111111###11111111111111111111111111111111111111111111111111111111111111111111111111111111111111111111111111111111111111111111111111111111111111111111###1#####111###1111###11111111111111111111###1##11111111111111111111111111111111111111111111111111111111111111111111111111111111111111111111111111111111111111111111111111111111111111###11#11#1#####11111 1###111###11##1111####11#11111 1####11#####11111 1###111###1##1111####1#11111 1####1111111111111111111111111111111111111111111111111111111111###11#11##1#####11111 1###111###11##1111####11#11111 1####11#####11111 1###111###1##1111####1#11111 1####11111111111111111111111111111111111111111###1#####111###1111###11111111111111111111###1##1111111111111111111111111111111111111111111111111111111111111111111111111111111111111111111111###11##11#1#####11111 1###111###11##1111####11#11111 1####11#####11111 1###111###1##1111####1#11111 1####111111111111111111###11##11##1#####11111 1###111###11##1111####11#11111 1####11#####11111 1###111###1##1111####1#11111 1####1###1#####111###1111111111###1111111111111111111111111###11#####11111 1###111###1##1111####1#11111 1####111111111111111111111111111111111111111111111111###11##1#####11111 1###111###11##1111####11#11111 1####11#####11111 1###111###1##1111####1#11111 1####11111111111111111111111111111111###11#1#####111###1111111111###1111111111111111111111111###11#####11111 1###111###1##1111####1#11111 1####1111111111111111111###11##1#####11111 1###111###11##1111####11#11111 1####11#####11111 1###111###1##1111####1#11111 1####111###11#11111111111111111111111111111####1#####111###11111111###11111111111111111111111###1##11#####111###11####111####1111111111111111111###11#1#####11111 1###111###11##1111####11#11111 1####11#####11111 1###111###1##1111####1#11111 1####111###11##111111111111111111111111111####'"
            ]
          },
          "execution_count": 21,
          "metadata": {},
          "output_type": "execute_result"
        }
      ],
      "source": [
        "pr"
      ]
    }
  ],
  "metadata": {
    "colab": {
      "provenance": [],
      "include_colab_link": true
    },
    "kernelspec": {
      "display_name": "Python 3",
      "name": "python3"
    },
    "language_info": {
      "name": "python"
    }
  },
  "nbformat": 4,
  "nbformat_minor": 0
}